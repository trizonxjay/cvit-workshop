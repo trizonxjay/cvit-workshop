{
 "cells": [
  {
   "cell_type": "code",
   "execution_count": 15,
   "metadata": {},
   "outputs": [],
   "source": [
    "import torch\n",
    "import torch.nn as nn\n",
    "import torchvision.transforms as transforms\n",
    "import torchvision.datasets as dsets\n",
    "from torch.autograd import Variable\n",
    "from torch.utils.data import Dataset, DataLoader\n",
    "\n",
    "import os\n",
    "import cv2\n",
    "import numpy as np\n",
    "import matplotlib.pyplot as plt"
   ]
  },
  {
   "cell_type": "code",
   "execution_count": 8,
   "metadata": {},
   "outputs": [],
   "source": [
    "def get_data(data_path, train=True, img_size=None, shuffle=True):\n",
    "    \n",
    "    images = []\n",
    "    labels = []\n",
    "\n",
    "    if train:\n",
    "        data_path = os.path.join(data_path, \"TRAIN\")\n",
    "    else:\n",
    "        data_path = os.path.join(data_path, \"TEST\")\n",
    "\n",
    "    for label, label_text in enumerate(os.listdir(data_path)):\n",
    "        class_path = os.path.join(data_path, label_text)\n",
    "        for filename in os.listdir(class_path):\n",
    "            img = cv2.imread(os.path.join(class_path, filename), cv2.IMREAD_COLOR)\n",
    "            if img_size != None:\n",
    "                img = cv2.resize(img, img_size)\n",
    "            images.append(img)\n",
    "            labels.append(label)\n",
    "\n",
    "    images = np.array(images)\n",
    "    labels = np.array(labels)\n",
    "\n",
    "    if shuffle:\n",
    "        shuffler = np.random.permutation(len(images))\n",
    "        images = images[shuffler]\n",
    "        labels = labels[shuffler]\n",
    "\n",
    "    return images, labels"
   ]
  },
  {
   "cell_type": "code",
   "execution_count": 9,
   "metadata": {},
   "outputs": [],
   "source": [
    "train_images, train_labels = get_data(data_path=\"blood_cells_data/dataset2-master/images/\", img_size=(32,32))\n",
    "test_images, test_labels = get_data(data_path=\"blood_cells_data/dataset2-master/images/\", img_size=(32,32), train=False)"
   ]
  },
  {
   "cell_type": "code",
   "execution_count": 94,
   "metadata": {},
   "outputs": [
    {
     "data": {
      "image/png": "[encoded data removed]",
      "text/plain": [
       "<Figure size 432x288 with 1 Axes>"
      ]
     },
     "metadata": {
      "needs_background": "light"
     },
     "output_type": "display_data"
    },
    {
     "name": "stdout",
     "output_type": "stream",
     "text": [
      "Label: 3\n"
     ]
    },
    {
     "data": {
      "image/png": "[encoded data removed]",
      "text/plain": [
       "<Figure size 432x288 with 1 Axes>"
      ]
     },
     "metadata": {
      "needs_background": "light"
     },
     "output_type": "display_data"
    },
    {
     "name": "stdout",
     "output_type": "stream",
     "text": [
      "Label: 0\n"
     ]
    }
   ],
   "source": [
    "plt.imshow(train_images[0])\n",
    "plt.show()\n",
    "print(\"Label:\", train_labels[0])\n",
    "\n",
    "plt.imshow(test_images[0])\n",
    "plt.show()\n",
    "print(\"Label:\", test_labels[0])"
   ]
  },
  {
   "cell_type": "code",
   "execution_count": 95,
   "metadata": {},
   "outputs": [
    {
     "name": "stdout",
     "output_type": "stream",
     "text": [
      "(9957, 32, 32, 3)\n",
      "(2487, 32, 32, 3)\n"
     ]
    }
   ],
   "source": [
    "print(train_images.shape)\n",
    "print(test_images.shape)"
   ]
  },
  {
   "cell_type": "code",
   "execution_count": 96,
   "metadata": {},
   "outputs": [],
   "source": [
    "def format_image(img):\n",
    "    t = img.astype(\"float32\")\n",
    "    t = t/255\n",
    "    if len(t.shape) == 4:\n",
    "        t = t.reshape((t.shape[0], 3, t.shape[1], t.shape[2]))\n",
    "    else:\n",
    "        t = t.reshape((3, t.shape[0], t.shape[1]))\n",
    "    return torch.from_numpy(t)"
   ]
  },
  {
   "cell_type": "code",
   "execution_count": 97,
   "metadata": {},
   "outputs": [],
   "source": [
    "# class BloodCellData(Dataset):\n",
    "#     def __init__(self, images, labels):\n",
    "#         self.images = images\n",
    "#         self.labels = labels\n",
    "        \n",
    "#     def __getitem__(self, index):\n",
    "#         label = self.labels[index]\n",
    "#         img = self.images[index]\n",
    "#         img = format_image(img)\n",
    "#         return (img, label)\n",
    "\n",
    "#     def __len__(self):\n",
    "#         return len(self.images)\n",
    "\n",
    "# train_set = BloodCellData(train_images, train_labels)\n",
    "# test_set = BloodCellData(test_images, test_labels)"
   ]
  },
  {
   "cell_type": "code",
   "execution_count": 112,
   "metadata": {},
   "outputs": [],
   "source": [
    "train_set = (format_image(train_images), torch.from_numpy(train_labels))\n",
    "test_set = (format_image(test_images), torch.from_numpy(test_labels))"
   ]
  },
  {
   "cell_type": "code",
   "execution_count": 118,
   "metadata": {},
   "outputs": [],
   "source": [
    "def MyDataLoader(dataset, batch_size):\n",
    "    all_images, all_labels = dataset\n",
    "    n = len(all_images)\n",
    "    batched_dataset = []\n",
    "    for i in range(0,n,batch_size):\n",
    "        end_index = min(i+batch_size, n)\n",
    "        images = all_images[i:end_index]\n",
    "        labels = all_labels[i:end_index]\n",
    "        batched_dataset.append( (images, labels) )\n",
    "    return batched_dataset"
   ]
  },
  {
   "cell_type": "code",
   "execution_count": 123,
   "metadata": {},
   "outputs": [],
   "source": [
    "batch_size = 64\n",
    "n_iters = 3000\n",
    "num_epochs = n_iters / (len(train_set[0]) / batch_size)\n",
    "num_epochs = int(num_epochs)\n",
    "\n",
    "train_loader = MyDataLoader(train_set, batch_size=batch_size)\n",
    "test_loader = MyDataLoader(test_set, batch_size=batch_size)"
   ]
  },
  {
   "cell_type": "code",
   "execution_count": 124,
   "metadata": {},
   "outputs": [],
   "source": [
    "class CNNModel(nn.Module):\n",
    "    def __init__(self):\n",
    "        super(CNNModel, self).__init__()\n",
    "        \n",
    "        # Convolution 1\n",
    "        self.cnn1 = nn.Conv2d(in_channels=3, out_channels=32, kernel_size=5, stride=1, padding=2)\n",
    "        # Convolution 2\n",
    "        self.cnn2 = nn.Conv2d(in_channels=32, out_channels=64, kernel_size=5, stride=1, padding=2)\n",
    "        # Relu\n",
    "        self.relu = nn.ReLU()\n",
    "        # Max pool\n",
    "        self.maxpool = nn.MaxPool2d(kernel_size=2, stride=2)\n",
    "        # Fully connected 1 (readout)\n",
    "        self.fc1 = nn.Linear(64 * 8 * 8, 4)\n",
    "    \n",
    "    def forward(self, x):\n",
    "        # Convolution 1\n",
    "        out = self.maxpool(self.relu(self.cnn1(x)))\n",
    "        # Convolution 2\n",
    "        out = self.maxpool(self.relu(self.cnn2(out)))\n",
    "        \n",
    "        # Resize\n",
    "        out = out.view(out.size(0), -1)\n",
    "\n",
    "        # Linear function (readout)\n",
    "        out = self.fc1(out)\n",
    "        \n",
    "        return out"
   ]
  },
  {
   "cell_type": "code",
   "execution_count": 125,
   "metadata": {},
   "outputs": [],
   "source": [
    "model = CNNModel().to('cuda')\n",
    "criterion = nn.CrossEntropyLoss()\n",
    "learning_rate = 0.0005\n",
    "optimizer = torch.optim.Adam(model.parameters(), lr=learning_rate)"
   ]
  },
  {
   "cell_type": "code",
   "execution_count": 126,
   "metadata": {},
   "outputs": [
    {
     "name": "stdout",
     "output_type": "stream",
     "text": [
      "Iteration: 500. Loss: 1.3806804418563843. Accuracy: 24\n",
      "Iteration: 1000. Loss: 1.3363306522369385. Accuracy: 32\n",
      "Iteration: 1500. Loss: 1.1999844312667847. Accuracy: 42\n",
      "Iteration: 2000. Loss: 1.0549460649490356. Accuracy: 45\n",
      "Iteration: 2500. Loss: 1.0429131984710693. Accuracy: 46\n"
     ]
    }
   ],
   "source": [
    "iteration = 0\n",
    "for epoch in range(num_epochs):\n",
    "    for i, (images, labels) in enumerate(train_loader):\n",
    "        # Load images\n",
    "        images = images.requires_grad_()\n",
    "        \n",
    "        # Clear gradients w.r.t. parameters\n",
    "        optimizer.zero_grad()\n",
    "        \n",
    "        # Forward pass to get output/logits\n",
    "        outputs = model(images.to('cuda'))\n",
    "        \n",
    "        # Calculate Loss: softmax --> cross entropy loss\n",
    "        loss = criterion(outputs, labels.long().to('cuda'))\n",
    "        \n",
    "        # Getting gradients w.r.t. parameters\n",
    "        loss.backward()\n",
    "        \n",
    "        # Updating parameters\n",
    "        optimizer.step()\n",
    "        \n",
    "        iteration += 1\n",
    "        \n",
    "        if iteration % 500 == 0:\n",
    "            # Calculate Accuracy         \n",
    "            correct = 0\n",
    "            total = 0\n",
    "            # Iterate through test dataset\n",
    "            for images, labels in test_loader:\n",
    "                # Load images\n",
    "                images = images.requires_grad_()\n",
    "                \n",
    "                # Forward pass only to get logits/output\n",
    "                outputs = model(images.to('cuda'))\n",
    "                \n",
    "                # Get predictions from the maximum value\n",
    "                _, predicted = torch.max(outputs.data, 1)\n",
    "                \n",
    "                # Total number of labels\n",
    "                total += labels.size(0)\n",
    "                \n",
    "                # Total correct predictions\n",
    "                correct += (predicted == labels.long().to('cuda')).sum()\n",
    "            \n",
    "            accuracy = 100 * correct / total\n",
    "            \n",
    "            # Print Loss\n",
    "            print('Iteration: {}. Loss: {}. Accuracy: {}'.format(iteration, loss.item(), accuracy))"
   ]
  },
  {
   "cell_type": "markdown",
   "metadata": {},
   "source": [
    "**46 Percent accuracy on 4 classes**\n",
    "Well that's bad"
   ]
  },
  {
   "cell_type": "code",
   "execution_count": null,
   "metadata": {},
   "outputs": [],
   "source": []
  }
 ],
 "metadata": {
  "kernelspec": {
   "display_name": "Python 3",
   "language": "python",
   "name": "python3"
  },
  "language_info": {
   "codemirror_mode": {
    "name": "ipython",
    "version": 3
   },
   "file_extension": ".py",
   "mimetype": "text/x-python",
   "name": "python",
   "nbconvert_exporter": "python",
   "pygments_lexer": "ipython3",
   "version": "3.7.3"
  }
 },
 "nbformat": 4,
 "nbformat_minor": 2
}
