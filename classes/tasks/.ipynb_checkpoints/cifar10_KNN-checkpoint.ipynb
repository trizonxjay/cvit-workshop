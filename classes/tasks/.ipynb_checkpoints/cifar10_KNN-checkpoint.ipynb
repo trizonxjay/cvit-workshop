{
 "cells": [
  {
   "cell_type": "code",
   "execution_count": 42,
   "metadata": {},
   "outputs": [],
   "source": [
    "import torch\n",
    "import torchvision.datasets as dsets"
   ]
  },
  {
   "cell_type": "code",
   "execution_count": 43,
   "metadata": {},
   "outputs": [],
   "source": [
    "train_dataset = dsets.CIFAR10(root='./data', train=True, download=False)\n",
    "test_dataset = dsets.CIFAR10(root='./data', train=False, download=False)"
   ]
  },
  {
   "cell_type": "code",
   "execution_count": 44,
   "metadata": {},
   "outputs": [],
   "source": [
    "train_dataset.targets = np.array(train_dataset.targets)\n",
    "test_dataset.targets = np.array(test_dataset.targets)"
   ]
  },
  {
   "cell_type": "code",
   "execution_count": 45,
   "metadata": {},
   "outputs": [],
   "source": [
    "import os\n",
    "import cv2\n",
    "from sklearn.metrics import euclidean_distances\n",
    "import numpy as np"
   ]
  },
  {
   "cell_type": "code",
   "execution_count": 46,
   "metadata": {},
   "outputs": [],
   "source": [
    "def predict(img, train_set, k=1):\n",
    "    d1, d2, d3, d4 = train_set.data.shape\n",
    "    \n",
    "    flat_train_data = train_set.data.flatten().reshape(d1, d2*d3*d4)\n",
    "    flat_img = img.flatten()\n",
    "    distances = euclidean_distances(np.array([flat_img]), flat_train_data)\n",
    "    ordered = np.argpartition(distances, kth=k, axis=1)\n",
    "\n",
    "    sorted_labels = train_set.targets[ordered][:, :k]\n",
    "    return np.argmax(np.bincount(sorted_labels.flatten()))"
   ]
  },
  {
   "cell_type": "code",
   "execution_count": 47,
   "metadata": {},
   "outputs": [
    {
     "name": "stdout",
     "output_type": "stream",
     "text": [
      "Training sample prediction correctness at k=1: True\n",
      "Training sample prediction correctness at k=3: False\n"
     ]
    }
   ],
   "source": [
    "label = train_dataset.targets[0]\n",
    "image = train_dataset.data[0]\n",
    "\n",
    "print(\"Training sample prediction correctness at k=1:\", label == predict(image, train_dataset, k=1))\n",
    "print(\"Training sample prediction correctness at k=3:\", label == predict(image, train_dataset, k=3))"
   ]
  },
  {
   "cell_type": "code",
   "execution_count": 48,
   "metadata": {},
   "outputs": [],
   "source": [
    "def KNN_acc(train_set, test_set, k=1):\n",
    "    d1, d2, d3, d4 = train_set.data.shape\n",
    "    flat_train_data = train_set.data.flatten().reshape(d1, d2*d3*d4)\n",
    "\n",
    "    d1, d2, d3, d4 = test_set.data.shape\n",
    "    flat_test_data = test_set.data.flatten().reshape(d1, d2*d3*d4)\n",
    "\n",
    "    distances = euclidean_distances(flat_test_data, flat_train_data)\n",
    "    ordered = np.argpartition(distances, kth=k, axis=1)\n",
    "    \n",
    "    sorted_labels = train_set.targets[ordered][:, :k]\n",
    "\n",
    "    correct_preds = 0\n",
    "    for i, label in enumerate(test_set.targets):\n",
    "        if np.argmax(np.bincount(sorted_labels[i])) == label:\n",
    "            correct_preds += 1\n",
    "\n",
    "    return correct_preds/len(test_set.targets)"
   ]
  },
  {
   "cell_type": "code",
   "execution_count": 49,
   "metadata": {},
   "outputs": [
    {
     "name": "stdout",
     "output_type": "stream",
     "text": [
      "Test set accuracy on k = 3 is 0.3303\n"
     ]
    }
   ],
   "source": [
    "k=3\n",
    "print(\"Test set accuracy on k =\", k, \"is\", KNN_acc(train_dataset, test_dataset, k))"
   ]
  }
 ],
 "metadata": {
  "kernelspec": {
   "display_name": "Python 3",
   "language": "python",
   "name": "python3"
  },
  "language_info": {
   "codemirror_mode": {
    "name": "ipython",
    "version": 3
   },
   "file_extension": ".py",
   "mimetype": "text/x-python",
   "name": "python",
   "nbconvert_exporter": "python",
   "pygments_lexer": "ipython3",
   "version": "3.7.3"
  }
 },
 "nbformat": 4,
 "nbformat_minor": 2
}
