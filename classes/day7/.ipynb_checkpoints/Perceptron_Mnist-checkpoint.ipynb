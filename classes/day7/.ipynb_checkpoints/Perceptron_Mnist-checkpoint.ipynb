{
 "cells": [
  {
   "cell_type": "code",
   "execution_count": 1,
   "metadata": {
    "colab": {
     "base_uri": "https://localhost:8080/",
     "height": 70
    },
    "colab_type": "code",
    "id": "oOiMc9Jlf1Uu",
    "outputId": "139de137-73f3-4a3d-b130-9bed3992f1c6"
   },
   "outputs": [
    {
     "name": "stderr",
     "output_type": "stream",
     "text": [
      "Using TensorFlow backend.\n"
     ]
    },
    {
     "name": "stdout",
     "output_type": "stream",
     "text": [
      "Downloading data from https://s3.amazonaws.com/img-datasets/mnist.npz\n",
      "11493376/11490434 [==============================] - 1s 0us/step\n"
     ]
    }
   ],
   "source": [
    "from keras.datasets import mnist\n",
    "\n",
    "(x_train, y_train), (x_test, y_test) = mnist.load_data()"
   ]
  },
  {
   "cell_type": "code",
   "execution_count": 0,
   "metadata": {
    "colab": {},
    "colab_type": "code",
    "id": "0pd1iaB3hbXp"
   },
   "outputs": [],
   "source": [
    "import numpy as np"
   ]
  },
  {
   "cell_type": "code",
   "execution_count": 3,
   "metadata": {
    "colab": {
     "base_uri": "https://localhost:8080/",
     "height": 52
    },
    "colab_type": "code",
    "id": "gwiP3YLzgmKl",
    "outputId": "26d48aaf-9774-45d1-8f0e-9ed211fd8ee4"
   },
   "outputs": [
    {
     "name": "stdout",
     "output_type": "stream",
     "text": [
      "Training data shape:  (60000, 28, 28)\n",
      "Test data shape (10000, 28, 28)\n"
     ]
    }
   ],
   "source": [
    "print(\"Training data shape: \", x_train.shape) # (60000, 28, 28) -- 60000 images, each 28x28 pixels\n",
    "print(\"Test data shape\", x_test.shape) # (10000, 28, 28) -- 10000 images, each 28x28\n",
    "\n",
    "# Flatten the images\n",
    "image_vector_size = 28*28\n",
    "x_train = x_train.reshape(x_train.shape[0], image_vector_size)\n",
    "x_test = x_test.reshape(x_test.shape[0], image_vector_size)"
   ]
  },
  {
   "cell_type": "code",
   "execution_count": 4,
   "metadata": {
    "colab": {
     "base_uri": "https://localhost:8080/",
     "height": 52
    },
    "colab_type": "code",
    "id": "4ItrFUYEg7SI",
    "outputId": "c3c16d65-278f-4274-90c3-5f282c59de26"
   },
   "outputs": [
    {
     "name": "stdout",
     "output_type": "stream",
     "text": [
      "Training data shape:  (60000, 784)\n",
      "Test data shape (10000, 784)\n"
     ]
    }
   ],
   "source": [
    "print(\"Training data shape: \", x_train.shape) # (60000, 28, 28) -- 60000 images, each 28x28 pixels\n",
    "print(\"Test data shape\", x_test.shape) # (10000, 28, 28) -- 10000 images, each 28x28"
   ]
  },
  {
   "cell_type": "code",
   "execution_count": 0,
   "metadata": {
    "colab": {},
    "colab_type": "code",
    "id": "UJ_MWm4wg7ix"
   },
   "outputs": [],
   "source": [
    "# Function to extract the classes\n",
    "def extract_2classes(class0, class1, X, Y):\n",
    "    # Select class #0\n",
    "    X_0 = X[Y == class0]\n",
    "    Y_0 = Y[Y == class0]\n",
    "    # Select class #1\n",
    "    X_1 = X[Y == class1]\n",
    "    Y_1 = Y[Y == class1]\n",
    "    # Join the two classes to make the set\n",
    "    X_2classes = np.vstack((X_0, X_1))\n",
    "    Y_2classes = np.append(Y_0, Y_1)\n",
    "    return X_2classes, Y_2classes"
   ]
  },
  {
   "cell_type": "code",
   "execution_count": 0,
   "metadata": {
    "colab": {},
    "colab_type": "code",
    "id": "fG-YcWSuhKI9"
   },
   "outputs": [],
   "source": [
    "X_train_2classes, Y_train_2classes = extract_2classes(5, 7, x_train, y_train)\n",
    "X_test_2classes, Y_test_2classes = extract_2classes(5, 7,x_test, y_test)"
   ]
  },
  {
   "cell_type": "code",
   "execution_count": 7,
   "metadata": {
    "colab": {
     "base_uri": "https://localhost:8080/",
     "height": 52
    },
    "colab_type": "code",
    "id": "exespOWBjDx_",
    "outputId": "ebfb28f0-1ee5-4e94-fcb7-c875c31e4165"
   },
   "outputs": [
    {
     "name": "stdout",
     "output_type": "stream",
     "text": [
      "Training data shape:  (11686, 784)\n",
      "Test data shape (1920, 784)\n"
     ]
    }
   ],
   "source": [
    "print(\"Training data shape: \", X_train_2classes.shape) # (60000, 28, 28) -- 60000 images, each 28x28 pixels\n",
    "print(\"Test data shape\", X_test_2classes.shape) # (10000, 28, 28) -- 10000 images, each 28x28"
   ]
  },
  {
   "cell_type": "code",
   "execution_count": 0,
   "metadata": {
    "colab": {},
    "colab_type": "code",
    "id": "_qhlgfoEh3KP"
   },
   "outputs": [],
   "source": [
    "from sklearn.metrics import accuracy_score\n",
    "from sklearn.linear_model import Perceptron\n",
    "\n",
    "def predict(train_features,test_features,train_labels): \n",
    "    clf = Perceptron(tol=1e-3, random_state=0)\n",
    "    # Fitting the data into the model\n",
    "    clf.fit(train_features, train_labels)\n",
    "    # Predicting the labels for test data\n",
    "    predicted_values = clf.predict(test_features)\n",
    "    return predicted_values\n",
    "    \n",
    "def calc_accuracy(train_features,test_features,train_labels,test_labels):\n",
    "    # Calling predict function to get the predicted labels of test data\n",
    "    pred = predict(train_features,test_features,train_labels)\n",
    "    return accuracy_score(pred, test_labels)\n",
    "  "
   ]
  },
  {
   "cell_type": "code",
   "execution_count": 9,
   "metadata": {
    "colab": {
     "base_uri": "https://localhost:8080/",
     "height": 35
    },
    "colab_type": "code",
    "id": "eh2H-ZgFh9JW",
    "outputId": "bdfadd15-a913-4134-f88d-c23d0d37c687"
   },
   "outputs": [
    {
     "data": {
      "text/plain": [
       "0.9895833333333334"
      ]
     },
     "execution_count": 9,
     "metadata": {
      "tags": []
     },
     "output_type": "execute_result"
    }
   ],
   "source": [
    "calc_accuracy(X_train_2classes,X_test_2classes,Y_train_2classes,Y_test_2classes)"
   ]
  },
  {
   "cell_type": "code",
   "execution_count": 31,
   "metadata": {
    "colab": {
     "base_uri": "https://localhost:8080/",
     "height": 141
    },
    "colab_type": "code",
    "id": "EFMsslEZ90xy",
    "outputId": "48d48d92-9bbe-40c9-92fa-5490fc65a7d9"
   },
   "outputs": [
    {
     "name": "stdout",
     "output_type": "stream",
     "text": [
      "4 fold cross-validation accuracy = 0.985\n",
      "5 fold cross-validation accuracy = 0.988\n",
      "6 fold cross-validation accuracy = 0.987\n",
      "7 fold cross-validation accuracy = 0.989\n",
      "8 fold cross-validation accuracy = 0.989\n",
      "9 fold cross-validation accuracy = 0.987\n",
      "10 fold cross-validation accuracy = 0.988\n"
     ]
    }
   ],
   "source": [
    "def all_except(i, chunks):\n",
    "    return np.concatenate(chunks[:i] + chunks[i+1:])\n",
    "\n",
    "def kfold_cross_val(k, X, Y):\n",
    "    Xchunks = np.array_split(X, k)\n",
    "    Ychunks = np.array_split(Y, k)\n",
    "\n",
    "    accuracies = np.zeros((k), dtype=\"float\")\n",
    "    for i in range(k):\n",
    "        accuracies[i] = calc_accuracy(all_except(i, Xchunks), Xchunks[i], all_except(i, Ychunks), Ychunks[i])\n",
    "    return np.mean(accuracies)\n",
    "\n",
    "K_fold_X_2classes = np.concatenate((X_train_2classes, X_test_2classes))\n",
    "K_fold_Y_2classes = np.concatenate((Y_train_2classes, Y_test_2classes))\n",
    "\n",
    "accuracies = []\n",
    "\n",
    "for k in range(4,11):\n",
    "    accuracies.append(kfold_cross_val(k, K_fold_X_2classes, K_fold_Y_2classes))\n",
    "    print(k, \"fold cross-validation accuracy = %.3f\" % accuracies[-1])"
   ]
  },
  {
   "cell_type": "code",
   "execution_count": null,
   "metadata": {},
   "outputs": [],
   "source": []
  }
 ],
 "metadata": {
  "colab": {
   "collapsed_sections": [],
   "name": "Perceptron Mnist.ipynb",
   "provenance": []
  },
  "kernelspec": {
   "display_name": "Python 3",
   "language": "python",
   "name": "python3"
  },
  "language_info": {
   "codemirror_mode": {
    "name": "ipython",
    "version": 3
   },
   "file_extension": ".py",
   "mimetype": "text/x-python",
   "name": "python",
   "nbconvert_exporter": "python",
   "pygments_lexer": "ipython3",
   "version": "3.7.3"
  }
 },
 "nbformat": 4,
 "nbformat_minor": 1
}
