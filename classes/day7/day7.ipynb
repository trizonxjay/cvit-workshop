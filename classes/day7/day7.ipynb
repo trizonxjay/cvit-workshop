{
 "cells": [
  {
   "cell_type": "code",
   "execution_count": 1,
   "metadata": {},
   "outputs": [
    {
     "name": "stdout",
     "output_type": "stream",
     "text": [
      "\n",
      "AND gate:\n",
      "## Epoch: 1 \t [-0.783  0.541] [ 0. -1.  0.  1.]\n",
      "## Epoch: 2 \t [-0.683  0.541] [ 0. -1.  0.  1.]\n",
      "## Epoch: 3 \t [-0.583  0.541] [ 0. -1.  0.  1.]\n",
      "## Epoch: 4 \t [-0.483  0.541] [ 0. -1.  0.  1.]\n",
      "## Epoch: 5 \t [-0.383  0.541] [ 0. -1.  0.  1.]\n",
      "## Epoch: 6 \t [-0.283  0.541] [ 0. -1.  0.  1.]\n",
      "## Epoch: 7 \t [-0.183  0.541] [ 0. -1.  0.  1.]\n",
      "## Epoch: 8 \t [-0.183  0.441] [ 0. -1.  0.  0.]\n",
      "## Epoch: 9 \t [-0.083  0.441] [ 0. -1.  0.  1.]\n",
      "## Epoch: 10 \t [-0.083  0.341] [ 0. -1.  0.  0.]\n",
      "## Epoch: 11 \t [0.017 0.341] [ 0. -1.  0.  1.]\n",
      "## Epoch: 12 \t [0.017 0.241] [ 0. -1.  0.  0.]\n",
      "## Epoch: 13 \t [0.117 0.241] [ 0. -1.  0.  1.]\n",
      "## Epoch: 14 \t [0.117 0.141] [ 0. -1.  0.  0.]\n",
      "## Epoch: 15 \t [0.117 0.141] [0. 0. 0. 0.]\n",
      "Final weights: [0.117 0.141]\n",
      "\n",
      "OR gate:\n",
      "## Epoch: 1 \t [0.215 0.793] [0. 0. 0. 0.]\n",
      "Final weights: [0.215 0.793]\n"
     ]
    }
   ],
   "source": [
    "import numpy as np\n",
    "\n",
    "threshold = -0.2\n",
    "lr = 0.1\n",
    "\n",
    "def gate_data(gate='and'):\n",
    "\tX = np.float32([\n",
    "\t\t[0,0],\n",
    "\t\t[0,1],\n",
    "\t\t[1,0],\n",
    "\t\t[1,1]\n",
    "\t])\n",
    "\n",
    "\tif gate == \"and\":\n",
    "\t\tY = np.float32([\n",
    "\t\t\t0,0,0,1\n",
    "\t\t])\n",
    "\n",
    "\tif gate == \"or\":\n",
    "\t\tY = np.float32([\n",
    "\t\t\t0,1,1,1\n",
    "\t\t])\n",
    "\t\n",
    "\treturn X, Y\n",
    "\n",
    "n_epochs = 100\n",
    "\n",
    "gates = [\"and\", \"or\"]\n",
    "\n",
    "for gate in gates:\n",
    "\tX, Y = gate_data(gate)\n",
    "\tW = np.random.uniform(low=-1,high=1,size=(2))\n",
    "\t# W = np.float32([0.3, -0.1])\n",
    "\tprint()\n",
    "\tprint(gate.upper(), \"gate:\")\n",
    "\terror = np.zeros_like(Y)\n",
    "\tnp.set_printoptions(precision=3, suppress=True)\n",
    "\tfor epoch in range(1,n_epochs+1):\n",
    "\t\tfor i, x in enumerate(X):\n",
    "\t\t\toutput = 0\n",
    "\t\t\tif np.sum(x*W) + threshold > 0:\n",
    "\t\t\t\toutput = 1\n",
    "\t\t\terror[i] = Y[i] - output\n",
    "\t\t\tW += lr*(error[i])*x\n",
    "\t\tprint(\"## Epoch:\", epoch,\"\\t\", W, error)\n",
    "\t\t\n",
    "\t\tif np.sum(abs(error)) == 0:\n",
    "\t\t\tbreak\n",
    "\t\n",
    "\tprint(\"Final weights:\", W)"
   ]
  },
  {
   "cell_type": "code",
   "execution_count": null,
   "metadata": {},
   "outputs": [],
   "source": []
  }
 ],
 "metadata": {
  "kernelspec": {
   "display_name": "Python 3",
   "language": "python",
   "name": "python3"
  },
  "language_info": {
   "codemirror_mode": {
    "name": "ipython",
    "version": 3
   },
   "file_extension": ".py",
   "mimetype": "text/x-python",
   "name": "python",
   "nbconvert_exporter": "python",
   "pygments_lexer": "ipython3",
   "version": "3.7.3"
  }
 },
 "nbformat": 4,
 "nbformat_minor": 2
}
