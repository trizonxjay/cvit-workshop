{
 "cells": [
  {
   "cell_type": "markdown",
   "metadata": {},
   "source": [
    "# Probability and Stats"
   ]
  },
  {
   "cell_type": "code",
   "execution_count": 21,
   "metadata": {},
   "outputs": [],
   "source": [
    "import numpy as np\n",
    "import matplotlib.pyplot as plt\n",
    "import cv2\n",
    "import pandas\n",
    "from copy import deepcopy"
   ]
  },
  {
   "cell_type": "code",
   "execution_count": 3,
   "metadata": {},
   "outputs": [],
   "source": [
    "# Modify the empty list, p, so that it becomes a UNIFORM probability\n",
    "# distribution over n grid cells, as expressed in a list of \n",
    "# n probabilities.\n",
    "def init_distribution(n):\n",
    "    p = []\n",
    "    # Add your code here\n",
    "    p = [1/n for i in range(n)]\n",
    "    # End your code here\n",
    "    return p"
   ]
  },
  {
   "cell_type": "code",
   "execution_count": 4,
   "metadata": {},
   "outputs": [
    {
     "data": {
      "text/plain": [
       "[0.2, 0.2, 0.2, 0.2, 0.2]"
      ]
     },
     "execution_count": 4,
     "metadata": {},
     "output_type": "execute_result"
    }
   ],
   "source": [
    "init_distribution(5)"
   ]
  },
  {
   "cell_type": "code",
   "execution_count": 7,
   "metadata": {},
   "outputs": [
    {
     "data": {
      "text/plain": [
       "[0.11111111111111112,\n",
       " 0.33333333333333337,\n",
       " 0.33333333333333337,\n",
       " 0.11111111111111112,\n",
       " 0.11111111111111112]"
      ]
     },
     "execution_count": 7,
     "metadata": {},
     "output_type": "execute_result"
    }
   ],
   "source": [
    "#Modify the code below so that the function sense, which \n",
    "#takes p and Z as inputs, will output the normalized \n",
    "#probability distribution, q, after multiplying the entries \n",
    "# in p according to the color in the corresponding cell in world,\n",
    "# followed by normalization of the probability values\n",
    "world=['green', 'red', 'red', 'green', 'green']\n",
    "p = [0.2, 0.2, 0.2, 0.2, 0.2]\n",
    "\n",
    "def prob(actual_color, obs_color):\n",
    "    if(actual_color == obs_color):\n",
    "        return 0.75\n",
    "    return 0.25\n",
    "    \n",
    "def sense(p, Z):\n",
    "    q = []\n",
    "    # Add your code here\n",
    "    for i, color in enumerate(world):\n",
    "        q.append(p[i]*prob(Z, color))\n",
    "    summ = sum(q)\n",
    "    for i in range(len(q)):\n",
    "        q[i] /= summ\n",
    "    # End your code here\n",
    "    return q\n",
    "            \n",
    "sense(p, 'red')"
   ]
  },
  {
   "cell_type": "code",
   "execution_count": 9,
   "metadata": {},
   "outputs": [
    {
     "data": {
      "text/plain": [
       "[0.27272727272727276,\n",
       " 0.09090909090909091,\n",
       " 0.09090909090909091,\n",
       " 0.27272727272727276,\n",
       " 0.27272727272727276]"
      ]
     },
     "execution_count": 9,
     "metadata": {},
     "output_type": "execute_result"
    }
   ],
   "source": [
    "sense(p, 'green')"
   ]
  },
  {
   "cell_type": "code",
   "execution_count": 10,
   "metadata": {},
   "outputs": [
    {
     "name": "stdout",
     "output_type": "stream",
     "text": [
      "[0.19999999999999998, 0.19999999999999998, 0.19999999999999998, 0.19999999999999998, 0.19999999999999998]\n"
     ]
    }
   ],
   "source": [
    "#Modify the code so that it updates the probability twice\n",
    "#and gives the posterior distribution after both \n",
    "#measurements are incorporated. Make sure that your code \n",
    "#allows for any sequence of measurement of any length.\n",
    "\n",
    "# DO NOT MODIFY THE SENSE FUNCTION. JUST CALL THE SENSE FUNCTION APPROPRIATELY\n",
    "\n",
    "p=[0.2, 0.2, 0.2, 0.2, 0.2]\n",
    "world=['green', 'red', 'red', 'green', 'green']\n",
    "measurements = ['red', 'green']\n",
    "\n",
    "# Add your code here\n",
    "for m in measurements:\n",
    "    p = sense(p, m)\n",
    "# End your code here\n",
    "print(p)"
   ]
  },
  {
   "cell_type": "code",
   "execution_count": 16,
   "metadata": {},
   "outputs": [
    {
     "data": {
      "text/plain": [
       "[0.11, 0.11, 0.33, 0.33, 0.11]"
      ]
     },
     "execution_count": 16,
     "metadata": {},
     "output_type": "execute_result"
    }
   ],
   "source": [
    "#Program a function that returns a new distribution \n",
    "#q, shifted to the right by U units. If U=0, q should \n",
    "#be the same as p.\n",
    "\n",
    "def moveExact(p, U):\n",
    "    q = []\n",
    "    # ADD CODE HERE\n",
    "    n = len(p)\n",
    "    u = U%n\n",
    "    q = p[n-u:] + p[:n-u]\n",
    "    # END CODE HERE\n",
    "    return q\n",
    "\n",
    "moveExact([0.11, 0.33, 0.33, 0.11, 0.11], 1)"
   ]
  },
  {
   "cell_type": "code",
   "execution_count": 31,
   "metadata": {},
   "outputs": [
    {
     "data": {
      "text/plain": [
       "[0.0, 0.1, 0.8, 0.1, 0.0]"
      ]
     },
     "execution_count": 31,
     "metadata": {},
     "output_type": "execute_result"
    }
   ],
   "source": [
    "#Modify the move function to accommodate the added \n",
    "#probabilities of overshooting or undershooting \n",
    "#the intended destination.\n",
    "\n",
    "def sgn(n):\n",
    "    return (n>=0)*2 - 1\n",
    "\n",
    "def moveInexact(p, U):\n",
    "    q = []\n",
    "    # ADD CODE HERE\n",
    "    q = deepcopy(p)\n",
    "\n",
    "    for u in range(abs(U)):\n",
    "        a = moveExact(q,0)\n",
    "        b = moveExact(q,sgn(U)*1)\n",
    "        c = moveExact(q,sgn(U)*2)\n",
    "        for i in range(len(q)):\n",
    "            q[i] = (0.1*a[i] + 0.8*b[i] + 0.1*c[i])\n",
    "    \n",
    "    # END CODE HERE\n",
    "    return q\n",
    "\n",
    "moveInexact([0, 1.0, 0, 0, 0], 1)"
   ]
  },
  {
   "cell_type": "code",
   "execution_count": 28,
   "metadata": {},
   "outputs": [
    {
     "data": {
      "text/plain": [
       "[0.010000000000000002,\n",
       " 0.010000000000000002,\n",
       " 0.16000000000000003,\n",
       " 0.6600000000000001,\n",
       " 0.16000000000000003]"
      ]
     },
     "execution_count": 28,
     "metadata": {},
     "output_type": "execute_result"
    }
   ],
   "source": [
    "# Write code that makes the robot move twice and then prints \n",
    "# out the resulting distribution, starting with the initial \n",
    "# distribution p = [0, 1, 0, 0, 0]\n",
    "\n",
    "# Call the function appropriately from here\n",
    "\n",
    "# ADD CODE HERE\n",
    "p = [0, 1, 0, 0, 0]\n",
    "p = moveInexact(p, 2)\n",
    "# END CODE HERE\n",
    "p"
   ]
  },
  {
   "cell_type": "code",
   "execution_count": 32,
   "metadata": {},
   "outputs": [
    {
     "data": {
      "text/plain": [
       "[0.20000000000000365,\n",
       " 0.20000000000000373,\n",
       " 0.20000000000000365,\n",
       " 0.2000000000000035,\n",
       " 0.2000000000000035]"
      ]
     },
     "execution_count": 32,
     "metadata": {},
     "output_type": "execute_result"
    }
   ],
   "source": [
    "#write code that moves 1000 times and then prints the \n",
    "#resulting probability distribution.\n",
    "\n",
    "p = [0, 1, 0, 0, 0]\n",
    "# ADD CODE HERE\n",
    "p = moveInexact(p, 1000)\n",
    "# END CODE HERE\n",
    "p"
   ]
  },
  {
   "cell_type": "code",
   "execution_count": 35,
   "metadata": {},
   "outputs": [
    {
     "name": "stdout",
     "output_type": "stream",
     "text": [
      "[0.1111111111111111, 0.3333333333333333, 0.3333333333333333, 0.1111111111111111, 0.1111111111111111]\n",
      "[0.15789473684210528, 0.06315789473684211, 0.14736842105263157, 0.4421052631578947, 0.18947368421052632]\n"
     ]
    },
    {
     "data": {
      "text/plain": [
       "[0.15789473684210528,\n",
       " 0.06315789473684211,\n",
       " 0.14736842105263157,\n",
       " 0.4421052631578947,\n",
       " 0.18947368421052632]"
      ]
     },
     "execution_count": 35,
     "metadata": {},
     "output_type": "execute_result"
    }
   ],
   "source": [
    "#Given the list motions=[1,1] which means the robot \n",
    "#moves right and then right again, compute the posterior \n",
    "#distribution if the robot first senses red, then moves \n",
    "#right one, then senses green, then moves right again, \n",
    "#starting with a uniform prior distribution.\n",
    "\n",
    "world=['green', 'red', 'red', 'green', 'green']\n",
    "measurements = ['red', 'green']\n",
    "motions = [1,1]\n",
    "\n",
    "p = init_distribution(len(world))\n",
    "# ADD CODE HERE\n",
    "for m, color in enumerate(measurements):\n",
    "    p = moveInexact(p, motions[m])\n",
    "    p = sense(p, color)\n",
    "    print(p)\n",
    "# END CODE HERE\n",
    "p"
   ]
  },
  {
   "cell_type": "code",
   "execution_count": null,
   "metadata": {},
   "outputs": [],
   "source": []
  }
 ],
 "metadata": {
  "kernelspec": {
   "display_name": "Python 3",
   "language": "python",
   "name": "python3"
  },
  "language_info": {
   "codemirror_mode": {
    "name": "ipython",
    "version": 3
   },
   "file_extension": ".py",
   "mimetype": "text/x-python",
   "name": "python",
   "nbconvert_exporter": "python",
   "pygments_lexer": "ipython3",
   "version": "3.7.3"
  }
 },
 "nbformat": 4,
 "nbformat_minor": 2
}
